{
 "cells": [
  {
   "cell_type": "code",
   "execution_count": null,
   "metadata": {},
   "outputs": [],
   "source": [
    "import numpy as np\n",
    "import matplotlib.pyplot as plt\n",
    "\n",
    "import tables as tbl\n",
    "import cartopy_plots as cplt\n",
    "\n",
    "from importlib import reload"
   ]
  },
  {
   "cell_type": "code",
   "execution_count": null,
   "metadata": {},
   "outputs": [],
   "source": [
    "lat = np.linspace(0,80, 22)\n",
    "lon = np.linspace(0,360, 129)[:-1]\n",
    "\n",
    "LON, LAT = np.meshgrid(lon, lat)\n",
    "\n",
    "f = np.sin(LON*np.pi/180)*np.cos(LAT*np.pi/180)**2\n",
    "\n",
    "sign = np.sin((LON + LAT)*np.pi/180)**2 > 0.2"
   ]
  },
  {
   "cell_type": "code",
   "execution_count": null,
   "metadata": {},
   "outputs": [],
   "source": [
    "np.mean(sign)"
   ]
  },
  {
   "cell_type": "code",
   "execution_count": null,
   "metadata": {},
   "outputs": [],
   "source": [
    "plt.close(1)\n",
    "fig = plt.figure(num=1, figsize=(9,6))\n",
    "ax = fig.add_subplot(111, projection=cplt.ccrs.Orthographic(0,90))\n",
    "\n",
    "cplt.geo_plotter(ax, LON, LAT, f, mode='contourf', greenwich=True)\n",
    "ax.contourf(LON, LAT, sign, transform=cplt.data_proj, hatches=['//','.'], levels=[-0.5,0.5,1.5], colors='none', cmap=None)\n",
    "ax.contour(LON, LAT, sign, transform=cplt.data_proj, levels=[-0.5,0.5], colors='black', cmap=None)\n",
    "# cplt.significance_hatching(ax, LON, LAT, sign)\n",
    "\n",
    "# ax.contourf(LON, LAT, sign, levels=[0,1], hatches=['-', '+'], alpha=0.5)\n",
    "\n",
    "fig.tight_layout()"
   ]
  },
  {
   "cell_type": "code",
   "execution_count": null,
   "metadata": {},
   "outputs": [],
   "source": [
    "reload(cplt)"
   ]
  },
  {
   "cell_type": "code",
   "execution_count": null,
   "metadata": {},
   "outputs": [],
   "source": [
    "cplt.mfp(LON,LAT, f.reshape((*f.shape,1)), mode='contourf', greenwich=True,\n",
    "         significance=sign\n",
    "         )"
   ]
  },
  {
   "cell_type": "code",
   "execution_count": null,
   "metadata": {},
   "outputs": [],
   "source": [
    "ims = []\n",
    "for i in range(6):\n",
    "    plt.close(i)\n",
    "    fig,ax = plt.subplots(figsize=(9,6))\n",
    "    plt.plot(np.linspace(0,1,100), np.linspace(0,1,100)**i)\n",
    "    plt.ylim(0,1)\n",
    "    plt.xlim(0,1)\n",
    "    fig.tight_layout()\n",
    "\n",
    "    ims.append(tbl.fig2img(fig))\n",
    "\n",
    "ims = np.array(ims, dtype=object).reshape(2,3)"
   ]
  },
  {
   "cell_type": "code",
   "execution_count": null,
   "metadata": {},
   "outputs": [],
   "source": [
    "view = tbl.fig_table(ims)"
   ]
  },
  {
   "cell_type": "code",
   "execution_count": null,
   "metadata": {},
   "outputs": [],
   "source": [
    "view"
   ]
  },
  {
   "cell_type": "code",
   "execution_count": null,
   "metadata": {},
   "outputs": [],
   "source": [
    "def make_label_im(text, figsize, rotation=0, dpi=300):\n",
    "    plt.close(0)\n",
    "    fig = plt.figure(figsize=figsize, num=0)\n",
    "    fig.text(0.5,0.5,text, ha='center',va='center', rotation=rotation)\n",
    "    return tbl.fig2img(fig, dpi=dpi)"
   ]
  },
  {
   "cell_type": "code",
   "execution_count": null,
   "metadata": {},
   "outputs": [],
   "source": [
    "def fig_table(plotting_function, vals, col_labels=None, row_labels=None, figsize=(7,3), dpi=300, label_thickness=1, h_spacing=0, v_spacing=None, **kwargs):\n",
    "    if col_labels is not None:\n",
    "        assert vals.shape[1] == len(col_labels)\n",
    "    if row_labels is not None:\n",
    "        assert vals.shape[0] == len(row_labels)\n",
    "    \n",
    "    ims = np.empty((vals.shape[0], vals.shape[1]), dtype=object)\n",
    "    for i in range(vals.shape[0]):\n",
    "        for j in range(vals.shape[1]):\n",
    "            fig = plotting_function(vals[i,j], figsize=figsize, **kwargs)\n",
    "            ims[i,j] = tbl.fig2img(fig, dpi=dpi)\n",
    "\n",
    "    if col_labels is not None:\n",
    "        col_labels = [make_label_im(text, figsize=(figsize[0], label_thickness), dpi=dpi) for text in col_labels]\n",
    "    if row_labels is not None:\n",
    "        row_labels = [make_label_im(text, figsize=(label_thickness, figsize[1]), rotation=90, dpi=dpi) for text in row_labels]\n",
    "\n",
    "    return tbl.fig_table_from_ims(ims, col_label_ims=col_labels, row_label_ims=row_labels, h_spacing=h_spacing, v_spacing=v_spacing)"
   ]
  },
  {
   "cell_type": "code",
   "execution_count": null,
   "metadata": {},
   "outputs": [],
   "source": [
    "def plotter(v, figsize=(9,6)):\n",
    "    plt.close(0)\n",
    "    fig = plt.figure(figsize=figsize, num=0)\n",
    "    plt.plot(np.linspace(0,1,100), np.linspace(0,1,100)**v)\n",
    "    plt.ylim(0,1)\n",
    "    plt.xlim(0,1)\n",
    "    fig.tight_layout()\n",
    "    return fig"
   ]
  },
  {
   "cell_type": "code",
   "execution_count": null,
   "metadata": {},
   "outputs": [],
   "source": [
    "view = fig_table(plotter, np.arange(6).reshape(2,3), col_labels=['gana', 'fuba', 'ruga'], row_labels=['uga', 'buga'])"
   ]
  },
  {
   "cell_type": "code",
   "execution_count": null,
   "metadata": {},
   "outputs": [],
   "source": [
    "from importlib import reload\n",
    "reload(tbl)"
   ]
  },
  {
   "cell_type": "code",
   "execution_count": null,
   "metadata": {},
   "outputs": [],
   "source": [
    "np.insert(np.arange(5,dtype=float), 0 , 0.5)"
   ]
  },
  {
   "cell_type": "code",
   "execution_count": null,
   "metadata": {},
   "outputs": [],
   "source": [
    "ims = ims.reshape(-1)"
   ]
  },
  {
   "cell_type": "code",
   "execution_count": null,
   "metadata": {},
   "outputs": [],
   "source": [
    "ims.shape"
   ]
  },
  {
   "cell_type": "code",
   "execution_count": null,
   "metadata": {},
   "outputs": [],
   "source": [
    "np.array([tbl.Image.new('RGB', (2,2))] + list(ims), dtype=object)"
   ]
  },
  {
   "cell_type": "code",
   "execution_count": null,
   "metadata": {},
   "outputs": [],
   "source": [
    "view"
   ]
  },
  {
   "cell_type": "code",
   "execution_count": 1,
   "metadata": {},
   "outputs": [],
   "source": [
    "import utilities as ut\n",
    "import logging\n",
    "import sys\n",
    "import time\n"
   ]
  },
  {
   "cell_type": "code",
   "execution_count": 2,
   "metadata": {},
   "outputs": [],
   "source": [
    "logger = logging.getLogger('buga')\n",
    "# logger.handlers = [logging.StreamHandler(sys.stdout)]\n",
    "logger.level = logging.INFO\n",
    "\n",
    "root_logger = logging.getLogger()\n",
    "root_logger.level = logging.INFO\n",
    "root_logger.handlers = [logging.StreamHandler(sys.stdout)]"
   ]
  },
  {
   "cell_type": "code",
   "execution_count": 3,
   "metadata": {},
   "outputs": [
    {
     "name": "stdout",
     "output_type": "stream",
     "text": [
      "u\n"
     ]
    }
   ],
   "source": [
    "logger.info('u')"
   ]
  },
  {
   "cell_type": "code",
   "execution_count": 4,
   "metadata": {},
   "outputs": [],
   "source": [
    "@ut.execution_time\n",
    "@ut.indent_logger(logger)\n",
    "def sl(t):\n",
    "    logger.info('sleeping')\n",
    "    time.sleep(t)\n",
    "    logger.info('done')\n",
    "\n",
    "@ut.exec_time(logger)\n",
    "@ut.indent_logger(logger)\n",
    "def sl2(t):\n",
    "    logger.info('sleeping')\n",
    "    time.sleep(t)\n",
    "    logger.info('done')"
   ]
  },
  {
   "cell_type": "code",
   "execution_count": 5,
   "metadata": {},
   "outputs": [
    {
     "name": "stdout",
     "output_type": "stream",
     "text": [
      "sl:\n",
      "\tsleeping\n",
      "\tdone\n",
      "sl: completed in 2.0 s\n"
     ]
    }
   ],
   "source": [
    "sl(2)"
   ]
  },
  {
   "cell_type": "code",
   "execution_count": 6,
   "metadata": {},
   "outputs": [
    {
     "name": "stdout",
     "output_type": "stream",
     "text": [
      "sl:\n",
      "\tsleeping\n",
      "\tdone\n",
      "sl: completed in 2.0 s\n",
      "sl2:\n",
      "\tsleeping\n",
      "\tdone\n",
      "sl2: completed in 2.0 s\n"
     ]
    }
   ],
   "source": [
    "with ut.FileLogger(logger, 'log.log', level=logging.INFO):\n",
    "    sl(2)\n",
    "    sl2(2)"
   ]
  },
  {
   "cell_type": "code",
   "execution_count": null,
   "metadata": {},
   "outputs": [],
   "source": []
  }
 ],
 "metadata": {
  "kernelspec": {
   "display_name": "mlk",
   "language": "python",
   "name": "mlk"
  },
  "language_info": {
   "codemirror_mode": {
    "name": "ipython",
    "version": 3
   },
   "file_extension": ".py",
   "mimetype": "text/x-python",
   "name": "python",
   "nbconvert_exporter": "python",
   "pygments_lexer": "ipython3",
   "version": "3.10.12"
  },
  "orig_nbformat": 4
 },
 "nbformat": 4,
 "nbformat_minor": 2
}
