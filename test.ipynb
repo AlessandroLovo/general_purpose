{
 "cells": [
  {
   "cell_type": "code",
   "execution_count": null,
   "metadata": {},
   "outputs": [],
   "source": [
    "import numpy as np\n",
    "import matplotlib.pyplot as plt\n",
    "\n",
    "import tables as tbl"
   ]
  },
  {
   "cell_type": "code",
   "execution_count": null,
   "metadata": {},
   "outputs": [],
   "source": [
    "ims = []\n",
    "for i in range(6):\n",
    "    plt.close(i)\n",
    "    fig,ax = plt.subplots(figsize=(9,6))\n",
    "    plt.plot(np.linspace(0,1,100), np.linspace(0,1,100)**i)\n",
    "    plt.ylim(0,1)\n",
    "    plt.xlim(0,1)\n",
    "    fig.tight_layout()\n",
    "\n",
    "    ims.append(tbl.fig2img(fig))\n",
    "\n",
    "ims = np.array(ims, dtype=object).reshape(2,3)"
   ]
  },
  {
   "cell_type": "code",
   "execution_count": null,
   "metadata": {},
   "outputs": [],
   "source": [
    "view = tbl.fig_table(ims)"
   ]
  },
  {
   "cell_type": "code",
   "execution_count": null,
   "metadata": {},
   "outputs": [],
   "source": [
    "view"
   ]
  },
  {
   "cell_type": "code",
   "execution_count": null,
   "metadata": {},
   "outputs": [],
   "source": [
    "def make_label_im(text, figsize, rotation=0, dpi=300):\n",
    "    plt.close(0)\n",
    "    fig = plt.figure(figsize=figsize, num=0)\n",
    "    fig.text(0.5,0.5,text, ha='center',va='center', rotation=rotation)\n",
    "    return tbl.fig2img(fig, dpi=dpi)"
   ]
  },
  {
   "cell_type": "code",
   "execution_count": null,
   "metadata": {},
   "outputs": [],
   "source": [
    "def fig_table(plotting_function, vals, col_labels=None, row_labels=None, figsize=(7,3), dpi=300, label_thickness=1, h_spacing=0, v_spacing=None, **kwargs):\n",
    "    if col_labels is not None:\n",
    "        assert vals.shape[1] == len(col_labels)\n",
    "    if row_labels is not None:\n",
    "        assert vals.shape[0] == len(row_labels)\n",
    "    \n",
    "    ims = np.empty((vals.shape[0], vals.shape[1]), dtype=object)\n",
    "    for i in range(vals.shape[0]):\n",
    "        for j in range(vals.shape[1]):\n",
    "            fig = plotting_function(vals[i,j], figsize=figsize, **kwargs)\n",
    "            ims[i,j] = tbl.fig2img(fig, dpi=dpi)\n",
    "\n",
    "    if col_labels is not None:\n",
    "        col_labels = [make_label_im(text, figsize=(figsize[0], label_thickness), dpi=dpi) for text in col_labels]\n",
    "    if row_labels is not None:\n",
    "        row_labels = [make_label_im(text, figsize=(label_thickness, figsize[1]), rotation=90, dpi=dpi) for text in row_labels]\n",
    "\n",
    "    return tbl.fig_table_from_ims(ims, col_label_ims=col_labels, row_label_ims=row_labels, h_spacing=h_spacing, v_spacing=v_spacing)"
   ]
  },
  {
   "cell_type": "code",
   "execution_count": null,
   "metadata": {},
   "outputs": [],
   "source": [
    "def plotter(v, figsize=(9,6)):\n",
    "    plt.close(0)\n",
    "    fig = plt.figure(figsize=figsize, num=0)\n",
    "    plt.plot(np.linspace(0,1,100), np.linspace(0,1,100)**v)\n",
    "    plt.ylim(0,1)\n",
    "    plt.xlim(0,1)\n",
    "    fig.tight_layout()\n",
    "    return fig"
   ]
  },
  {
   "cell_type": "code",
   "execution_count": null,
   "metadata": {},
   "outputs": [],
   "source": [
    "view = fig_table(plotter, np.arange(6).reshape(2,3), col_labels=['gana', 'fuba', 'ruga'], row_labels=['uga', 'buga'])"
   ]
  },
  {
   "cell_type": "code",
   "execution_count": null,
   "metadata": {},
   "outputs": [],
   "source": [
    "from importlib import reload\n",
    "reload(tbl)"
   ]
  },
  {
   "cell_type": "code",
   "execution_count": null,
   "metadata": {},
   "outputs": [],
   "source": [
    "np.insert(np.arange(5,dtype=float), 0 , 0.5)"
   ]
  },
  {
   "cell_type": "code",
   "execution_count": null,
   "metadata": {},
   "outputs": [],
   "source": [
    "ims = ims.reshape(-1)"
   ]
  },
  {
   "cell_type": "code",
   "execution_count": null,
   "metadata": {},
   "outputs": [],
   "source": [
    "ims.shape"
   ]
  },
  {
   "cell_type": "code",
   "execution_count": null,
   "metadata": {},
   "outputs": [],
   "source": [
    "np.array([tbl.Image.new('RGB', (2,2))] + list(ims), dtype=object)"
   ]
  },
  {
   "cell_type": "code",
   "execution_count": null,
   "metadata": {},
   "outputs": [],
   "source": [
    "view"
   ]
  },
  {
   "cell_type": "code",
   "execution_count": null,
   "metadata": {},
   "outputs": [],
   "source": []
  }
 ],
 "metadata": {
  "kernelspec": {
   "display_name": "mlk",
   "language": "python",
   "name": "mlk"
  },
  "language_info": {
   "codemirror_mode": {
    "name": "ipython",
    "version": 3
   },
   "file_extension": ".py",
   "mimetype": "text/x-python",
   "name": "python",
   "nbconvert_exporter": "python",
   "pygments_lexer": "ipython3",
   "version": "3.10.12"
  },
  "orig_nbformat": 4
 },
 "nbformat": 4,
 "nbformat_minor": 2
}
